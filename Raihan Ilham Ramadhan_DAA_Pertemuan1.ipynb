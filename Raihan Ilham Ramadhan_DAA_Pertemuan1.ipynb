# Langkah 1: Masukkan Angka Pertama
angka_pertama = float(input("Masukkan angka pertama: "))

# Langkah 2: Masukkan Angka Kedua
angka_kedua = float(input("Masukkan angka kedua: "))

# Langkah 3: Buat Kondisi Pertama
if angka_pertama > angka_kedua:
    print("Angka terbesar adalah:", angka_pertama)

# Langkah 4: Buat Kondisi Kedua
elif angka_kedua > angka_pertama:
    print("Angka terbesar adalah:", angka_kedua)

# Langkah 5: Jika kedua angka sama
else:
    print("Kedua angka sama besar.")
